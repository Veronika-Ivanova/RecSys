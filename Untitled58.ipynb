{
  "nbformat": 4,
  "nbformat_minor": 0,
  "metadata": {
    "colab": {
      "name": "Untitled58.ipynb",
      "provenance": [],
      "authorship_tag": "ABX9TyMemlrTePMfTeKwHx08/T6R",
      "include_colab_link": true
    },
    "kernelspec": {
      "name": "python3",
      "display_name": "Python 3"
    },
    "language_info": {
      "name": "python"
    }
  },
  "cells": [
    {
      "cell_type": "markdown",
      "metadata": {
        "id": "view-in-github",
        "colab_type": "text"
      },
      "source": [
        "<a href=\"https://colab.research.google.com/github/Veronika-Ivanova/RecSys/blob/main/Untitled58.ipynb\" target=\"_parent\"><img src=\"https://colab.research.google.com/assets/colab-badge.svg\" alt=\"Open In Colab\"/></a>"
      ]
    },
    {
      "cell_type": "code",
      "metadata": {
        "colab": {
          "base_uri": "https://localhost:8080/"
        },
        "id": "2BgDXB0kV7a0",
        "outputId": "5241a144-fc5e-40fa-9761-e289acf4e0ce"
      },
      "source": [
        "! git clone https://github.com/jldbc/bandits"
      ],
      "execution_count": null,
      "outputs": [
        {
          "output_type": "stream",
          "text": [
            "fatal: destination path 'bandits' already exists and is not an empty directory.\n"
          ],
          "name": "stdout"
        }
      ]
    },
    {
      "cell_type": "code",
      "metadata": {
        "id": "uSRK5fNKWFoH"
      },
      "source": [
        "import os\n",
        "\n",
        "os.chdir('/content/bandits')"
      ],
      "execution_count": 24,
      "outputs": []
    },
    {
      "cell_type": "code",
      "metadata": {
        "colab": {
          "base_uri": "https://localhost:8080/"
        },
        "id": "i0yU4nldYXne",
        "outputId": "f6ae744f-3f67-407a-861e-134dd7b2ab6a"
      },
      "source": [
        "! wget http://files.grouplens.org/datasets/movielens/ml-20m.zip"
      ],
      "execution_count": 28,
      "outputs": [
        {
          "output_type": "stream",
          "text": [
            "--2021-07-16 08:39:24--  http://files.grouplens.org/datasets/movielens/ml-20m.zip\n",
            "Resolving files.grouplens.org (files.grouplens.org)... 128.101.65.152\n",
            "Connecting to files.grouplens.org (files.grouplens.org)|128.101.65.152|:80... connected.\n",
            "HTTP request sent, awaiting response... 200 OK\n",
            "Length: 198702078 (189M) [application/zip]\n",
            "Saving to: ‘ml-20m.zip’\n",
            "\n",
            "ml-20m.zip          100%[===================>] 189.50M  47.3MB/s    in 4.3s    \n",
            "\n",
            "2021-07-16 08:39:28 (43.7 MB/s) - ‘ml-20m.zip’ saved [198702078/198702078]\n",
            "\n"
          ],
          "name": "stdout"
        }
      ]
    },
    {
      "cell_type": "code",
      "metadata": {
        "colab": {
          "base_uri": "https://localhost:8080/"
        },
        "id": "az6lhUVWeGEK",
        "outputId": "6a7338a7-1307-4a29-f109-56e4e43f8953"
      },
      "source": [
        "! unzip ml-20m.zip"
      ],
      "execution_count": 29,
      "outputs": [
        {
          "output_type": "stream",
          "text": [
            "Archive:  ml-20m.zip\n",
            "   creating: ml-20m/\n",
            "  inflating: ml-20m/genome-scores.csv  \n",
            "  inflating: ml-20m/genome-tags.csv  \n",
            "  inflating: ml-20m/links.csv        \n",
            "  inflating: ml-20m/movies.csv       \n",
            "  inflating: ml-20m/ratings.csv      \n",
            "  inflating: ml-20m/README.txt       \n",
            "  inflating: ml-20m/tags.csv         \n"
          ],
          "name": "stdout"
        }
      ]
    },
    {
      "cell_type": "code",
      "metadata": {
        "colab": {
          "base_uri": "https://localhost:8080/"
        },
        "id": "f-mMkg1beRl-",
        "outputId": "076fce7d-6068-48e4-977b-da2b50b63e99"
      },
      "source": [
        "! bash bandits/run.sh"
      ],
      "execution_count": null,
      "outputs": [
        {
          "output_type": "stream",
          "text": [
            "Running Epsilon Greedy Bandit with: batch size 10000, slate size 5, epsilon 0.01, and a minimum of 1500 reviews per movie in the dataset\n",
            "reading movielens 20m data\n",
            "tcmalloc: large alloc 3200049152 bytes == 0x555980504000 @  0x7f8cdee76001 0x7f8cdca3454f 0x7f8cdca84b58 0x7f8cdca8535f 0x7f8cdcb27103 0x5558f7424d54 0x5558f7424a50 0x5558f7499105 0x5558f74934ae 0x5558f74263ea 0x5558f749532a 0x5558f74934ae 0x5558f74263ea 0x5558f749532a 0x5558f74937ad 0x5558f74263ea 0x5558f74943b5 0x5558f74937ad 0x5558f74263ea 0x5558f749532a 0x5558f74934ae 0x5558f74263ea 0x5558f749532a 0x5558f742630a 0x5558f749460e 0x5558f74934ae 0x5558f74263ea 0x5558f749532a 0x5558f74934ae 0x5558f74263ea 0x5558f749532a\n",
            "preparing ratings log\n",
            "tcmalloc: large alloc 3360047104 bytes == 0x555a7845e000 @  0x7f8cdee76001 0x7f8cdca3454f 0x7f8cdca84b58 0x7f8cdca84d18 0x7f8cdcb2c010 0x7f8cdcb2c73c 0x7f8cdcb2c85d 0x5558f7426f68 0x7f8cdca71ef7 0x5558f7424c47 0x5558f7424a50 0x5558f7498453 0x5558f74934ae 0x5558f74263ea 0x5558f74987f0 0x5558f7365d14 0x7f8cdca71ef7 0x5558f7424c47 0x5558f7424a50 0x5558f7498453 0x5558f74934ae 0x5558f74263ea 0x5558f74987f0 0x5558f74934ae 0x5558f74263ea 0x5558f749532a 0x5558f742630a 0x5558f74943b5 0x5558f742630a 0x5558f749460e 0x5558f742630a\n",
            "tcmalloc: large alloc 3360047104 bytes == 0x555b413f4000 @  0x7f8cdee76001 0x7f8cdca3454f 0x7f8cdca84b58 0x7f8cdca84d18 0x7f8cdcb173a9 0x7f8cdcb19ab5 0x5558f750c4d9 0x5558f749491e 0x5558f74934ae 0x5558f74263ea 0x5558f749532a 0x5558f742630a 0x5558f74943b5 0x5558f742630a 0x5558f749460e 0x5558f742630a 0x5558f749460e 0x5558f74937ad 0x5558f74263ea 0x5558f74943b5 0x5558f742630a 0x5558f74987f0 0x5558f74937ad 0x5558f74263ea 0x5558f74987f0 0x5558f74934ae 0x5558f74263ea 0x5558f749532a 0x5558f74934ae 0x5558f74263ea 0x5558f749532a\n",
            "0\n",
            "100000\n",
            "200000\n",
            "300000\n",
            "400000\n",
            "500000\n",
            "600000\n",
            "700000\n",
            "800000\n",
            "900000\n",
            "1000000\n",
            "1100000\n",
            "1200000\n",
            "1300000\n",
            "1400000\n",
            "1500000\n",
            "1600000\n",
            "1700000\n",
            "1800000\n",
            "1900000\n",
            "2000000\n",
            "2100000\n",
            "2200000\n",
            "2300000\n",
            "2400000\n",
            "2500000\n",
            "2600000\n",
            "2700000\n",
            "2800000\n",
            "2900000\n",
            "3000000\n",
            "3100000\n",
            "saving results to /Users/jamesledoux/Documents/bandits/results/epsilon_greedy_10000_5_0.01_1500\n",
            "Traceback (most recent call last):\n",
            "  File \"bandits/epsilon_greedy.py\", line 83, in <module>\n",
            "    with open(full_filename + '.csv','w') as file:\n",
            "FileNotFoundError: [Errno 2] No such file or directory: '/Users/jamesledoux/Documents/bandits/results/epsilon_greedy_10000_5_0.01_1500.csv'\n",
            "Running Epsilon Greedy Bandit with: batch size 10000, slate size 5, epsilon 0.05, and a minimum of 1500 reviews per movie in the dataset\n",
            "reading movielens 20m data\n"
          ],
          "name": "stdout"
        }
      ]
    },
    {
      "cell_type": "code",
      "metadata": {
        "id": "w030hlWgfA7J"
      },
      "source": [
        ""
      ],
      "execution_count": null,
      "outputs": []
    }
  ]
}